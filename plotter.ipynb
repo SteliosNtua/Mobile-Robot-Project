{
 "cells": [
  {
   "cell_type": "code",
   "execution_count": 15,
   "metadata": {},
   "outputs": [],
   "source": [
    "import numpy as np\n",
    "import matplotlib.pyplot as plt\n",
    "import pandas as pd\n",
    "import os\n",
    "%matplotlib qt"
   ]
  },
  {
   "cell_type": "code",
   "execution_count": 2,
   "metadata": {},
   "outputs": [],
   "source": [
    "log = len(os.listdir('bag_logs')) -1\n",
    "logdir = 'bag_logs/log' + str(log) + '/'"
   ]
  },
  {
   "cell_type": "code",
   "execution_count": 3,
   "metadata": {},
   "outputs": [
    {
     "data": {
      "text/plain": [
       "['sonarFront_scan.csv',\n",
       " 'sonarFrontLeft_scan.csv',\n",
       " 'log_Pout.csv',\n",
       " 'sonarFrontRight_scan.csv',\n",
       " 'log_stage.csv',\n",
       " 'sonarRight_scan.csv',\n",
       " 'log_Dout.csv',\n",
       " 'log_lin_vel.csv',\n",
       " 'log_mu.csv',\n",
       " 'log_error.csv',\n",
       " 'log_theta.csv',\n",
       " 'log_ang_vel.csv',\n",
       " 'sonarLeft_scan.csv',\n",
       " 'log_out.csv']"
      ]
     },
     "execution_count": 3,
     "metadata": {},
     "output_type": "execute_result"
    }
   ],
   "source": [
    "csv_files = [ f for f in os.listdir(logdir) if f.endswith('.csv') ]\n",
    "csv_files"
   ]
  },
  {
   "cell_type": "code",
   "execution_count": 4,
   "metadata": {},
   "outputs": [],
   "source": [
    "df_list = [pd.read_csv(logdir + f) for f in csv_files]"
   ]
  },
  {
   "cell_type": "code",
   "execution_count": 5,
   "metadata": {},
   "outputs": [],
   "source": [
    "data = dict()\n",
    "for i,f in enumerate(csv_files):\n",
    "    data[f.split('.')[0]] = np.array(df_list[i].iloc[:,-1])"
   ]
  },
  {
   "cell_type": "code",
   "execution_count": 19,
   "metadata": {},
   "outputs": [],
   "source": [
    "plt.figure(num=None, figsize=(10, 10))\n",
    "plt.plot(data['log_Pout'], label='Pout')\n",
    "plt.plot(data['log_Dout'], label='Dout')\n",
    "plt.plot(data['log_out'], label='out')\n",
    "plt.legend()\n",
    "plt.grid()"
   ]
  },
  {
   "cell_type": "code",
   "execution_count": null,
   "metadata": {},
   "outputs": [],
   "source": []
  }
 ],
 "metadata": {
  "kernelspec": {
   "display_name": "Python 3",
   "language": "python",
   "name": "python3"
  },
  "language_info": {
   "codemirror_mode": {
    "name": "ipython",
    "version": 3
   },
   "file_extension": ".py",
   "mimetype": "text/x-python",
   "name": "python",
   "nbconvert_exporter": "python",
   "pygments_lexer": "ipython3",
   "version": "3.7.3"
  }
 },
 "nbformat": 4,
 "nbformat_minor": 2
}
